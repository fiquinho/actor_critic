{
 "cells": [
  {
   "cell_type": "markdown",
   "metadata": {},
   "source": [
    "# Testing actor functionallity"
   ]
  },
  {
   "cell_type": "code",
   "execution_count": 1,
   "metadata": {},
   "outputs": [],
   "source": [
    "%matplotlib inline\n",
    "\n",
    "import sys\n",
    "import os\n",
    "from pathlib import Path\n",
    "\n",
    "import tensorflow as tf\n",
    "import numpy as np\n",
    "import matplotlib.pyplot as plt\n",
    "\n",
    "SCRIPT_DIR = Path(os.path.dirname(os.path.realpath(\"__file__\")))\n",
    "sys.path.append(str(SCRIPT_DIR.parent))\n",
    "\n",
    "\n",
    "from actor import ActorConfig, feed_forward_discrete_policy_constructor"
   ]
  },
  {
   "cell_type": "code",
   "execution_count": 2,
   "metadata": {},
   "outputs": [],
   "source": [
    "# Tensorflow debug settings\n",
    "tf.config.run_functions_eagerly(True)\n",
    "tf.random.set_seed(0)"
   ]
  },
  {
   "cell_type": "markdown",
   "metadata": {},
   "source": [
    "## Create actor model"
   ]
  },
  {
   "cell_type": "code",
   "execution_count": 3,
   "metadata": {},
   "outputs": [],
   "source": [
    "sample_config = {\n",
    "    \"layer_sizes\": [40, 40],\n",
    "    \"learning_rate\": 0.001,\n",
    "    \"hidden_activation\": \"sigmoid\"\n",
    "}\n",
    "model_config = ActorConfig(**sample_config)\n",
    "actor_constructor = feed_forward_discrete_policy_constructor(3, 2)\n",
    "model = actor_constructor(model_config)"
   ]
  },
  {
   "cell_type": "markdown",
   "metadata": {},
   "source": [
    "## Test\n",
    "\n",
    "We will train with 3 states that yield 3 different discounted rewards.\n",
    "If the model learns to predict them, it's training functionality is working."
   ]
  },
  {
   "cell_type": "code",
   "execution_count": 4,
   "metadata": {},
   "outputs": [
    {
     "data": {
      "text/plain": [
       "array([[-1.],\n",
       "       [-1.],\n",
       "       [ 1.]])"
      ]
     },
     "execution_count": 4,
     "metadata": {},
     "output_type": "execute_result"
    }
   ],
   "source": [
    "def reward(states, actions):\n",
    "    rewards = []\n",
    "    \n",
    "    if actions[0] == 0.:\n",
    "        rewards.append([1.])\n",
    "    else:\n",
    "        rewards.append([-1.])\n",
    "                       \n",
    "    if actions[1] == 1.:\n",
    "        rewards.append([1.])\n",
    "    else:\n",
    "        rewards.append([-1.])\n",
    "        \n",
    "    if actions[2] == 1.:\n",
    "        rewards.append([1.])\n",
    "    else:\n",
    "        rewards.append([-1.])\n",
    "    \n",
    "    return np.array(rewards)\n",
    "\n",
    "actions = np.array([1, 0, 1])\n",
    "states = np.array([[1., 0., 0.], [0., 1., 0.], [0., 0., 1.]])\n",
    "reward(states, actions)"
   ]
  },
  {
   "cell_type": "code",
   "execution_count": 5,
   "metadata": {},
   "outputs": [],
   "source": [
    "states = np.array([[1., 0., 0.], [0., 1., 0.], [0., 0., 1.]])\n",
    "true_actions = np.array([0, 1, 1])"
   ]
  },
  {
   "cell_type": "code",
   "execution_count": null,
   "metadata": {},
   "outputs": [
    {
     "name": "stdout",
     "output_type": "stream",
     "text": [
      "\n",
      "Episode 0\n",
      "actions = [[0]\n",
      " [1]\n",
      " [1]]\n",
      "rewards = [[1.]\n",
      " [1.]\n",
      " [1.]]\n",
      "loss = 0.7379022836685181\n",
      "\n",
      "Episode 1000\n",
      "actions = [[1]\n",
      " [1]\n",
      " [1]]\n",
      "rewards = [[-1.]\n",
      " [ 1.]\n",
      " [ 1.]]\n",
      "loss = 0.000599520280957222\n",
      "\n",
      "Episode 2000\n",
      "actions = [[1]\n",
      " [1]\n",
      " [1]]\n",
      "rewards = [[-1.]\n",
      " [ 1.]\n",
      " [ 1.]]\n",
      "loss = 0.00014777350588701665\n"
     ]
    }
   ],
   "source": [
    "losses = []\n",
    "for i in range(10000):\n",
    "    \n",
    "    actions = model.produce_actions(states).numpy()\n",
    "    rewards = reward(states, actions)\n",
    "    values, loss, gradients = model.train_step(states, actions, rewards)\n",
    "    losses.append(loss)\n",
    "    if not i % 1000:\n",
    "        \n",
    "        print(\"\")\n",
    "        print(f\"Episode {i}\")\n",
    "        print(f\"actions = {actions}\")\n",
    "        print(f\"rewards = {rewards}\")\n",
    "        print(f\"loss = {loss.numpy()}\")\n",
    "\n",
    "    \n",
    "        "
   ]
  },
  {
   "cell_type": "code",
   "execution_count": null,
   "metadata": {},
   "outputs": [],
   "source": [
    "steps = list(range(10000))\n",
    "\n",
    "plt.plot(steps, losses)"
   ]
  },
  {
   "cell_type": "markdown",
   "metadata": {},
   "source": [
    "## Final model predictions"
   ]
  },
  {
   "cell_type": "code",
   "execution_count": null,
   "metadata": {},
   "outputs": [],
   "source": [
    "final_values = model(states)\n",
    "final_values"
   ]
  },
  {
   "cell_type": "code",
   "execution_count": null,
   "metadata": {},
   "outputs": [],
   "source": []
  }
 ],
 "metadata": {
  "kernelspec": {
   "display_name": "Python 3",
   "language": "python",
   "name": "python3"
  },
  "language_info": {
   "codemirror_mode": {
    "name": "ipython",
    "version": 3
   },
   "file_extension": ".py",
   "mimetype": "text/x-python",
   "name": "python",
   "nbconvert_exporter": "python",
   "pygments_lexer": "ipython3",
   "version": "3.7.4"
  }
 },
 "nbformat": 4,
 "nbformat_minor": 4
}
