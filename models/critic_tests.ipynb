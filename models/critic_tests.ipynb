{
 "cells": [
  {
   "cell_type": "markdown",
   "metadata": {},
   "source": [
    "# Testing critic functionallity"
   ]
  },
  {
   "cell_type": "code",
   "execution_count": 1,
   "metadata": {},
   "outputs": [],
   "source": [
    "%matplotlib inline\n",
    "\n",
    "import sys\n",
    "import os\n",
    "from pathlib import Path\n",
    "\n",
    "import tensorflow as tf\n",
    "import numpy as np\n",
    "import matplotlib.pyplot as plt\n",
    "\n",
    "SCRIPT_DIR = Path(os.path.dirname(os.path.realpath(\"__file__\")))\n",
    "sys.path.append(str(SCRIPT_DIR.parent))\n",
    "\n",
    "\n",
    "from critic import CriticConfig, critic_feed_forward_model_constructor"
   ]
  },
  {
   "cell_type": "code",
   "execution_count": 2,
   "metadata": {},
   "outputs": [],
   "source": [
    "# Tensorflow debug settings\n",
    "tf.config.run_functions_eagerly(True)\n",
    "tf.random.set_seed(0)"
   ]
  },
  {
   "cell_type": "markdown",
   "metadata": {},
   "source": [
    "## Create critic model"
   ]
  },
  {
   "cell_type": "code",
   "execution_count": 3,
   "metadata": {},
   "outputs": [],
   "source": [
    "sample_config = {\n",
    "    \"layer_sizes\": [40, 40],\n",
    "    \"learning_rate\": 0.0001,\n",
    "    \"hidden_activation\": \"relu\",\n",
    "    \"output_activation\": \"linear\"\n",
    "}\n",
    "model_config = CriticConfig(**sample_config)\n",
    "critic_constructor = critic_feed_forward_model_constructor(3)\n",
    "model = critic_constructor(model_config)"
   ]
  },
  {
   "cell_type": "markdown",
   "metadata": {},
   "source": [
    "## Test\n",
    "\n",
    "We will train with 3 states that yield 3 different discounted rewards.\n",
    "If the model learns to predict them, it's training functionality is working."
   ]
  },
  {
   "cell_type": "code",
   "execution_count": 4,
   "metadata": {},
   "outputs": [],
   "source": [
    "state = np.array([[1., 0., 0.], [0., 1., 0.], [0., 0., 1.]])\n",
    "discounted_rewards = np.array([[0.5], [1.], [1.]])"
   ]
  },
  {
   "cell_type": "code",
   "execution_count": 5,
   "metadata": {},
   "outputs": [
    {
     "name": "stdout",
     "output_type": "stream",
     "text": [
      "\n",
      "Episode 0\n",
      "Values = [[ 0.12403196]\n",
      " [ 0.2086613 ]\n",
      " [-0.0365605 ]]\n",
      "loss = 0.6140088438987732\n",
      "\n",
      "Episode 200\n",
      "Values = [[0.49198723]\n",
      " [0.7099694 ]\n",
      " [0.40801305]]\n",
      "loss = 0.14487683773040771\n",
      "\n",
      "Episode 400\n",
      "Values = [[0.55048996]\n",
      " [0.96405905]\n",
      " [0.71972567]]\n",
      "loss = 0.02746489644050598\n",
      "\n",
      "Episode 600\n",
      "Values = [[0.519827 ]\n",
      " [1.0116904]\n",
      " [0.9061307]]\n",
      "loss = 0.003113741986453533\n",
      "\n",
      "Episode 800\n",
      "Values = [[0.5040419 ]\n",
      " [1.0049273 ]\n",
      " [0.97896373]]\n",
      "loss = 0.0001610465405974537\n"
     ]
    }
   ],
   "source": [
    "losses = []\n",
    "values_list = []\n",
    "for i in range(1000):\n",
    "    \n",
    "    values, loss, gradients = model.train_step(state, discounted_rewards)\n",
    "    losses.append(loss)\n",
    "    values_list.append(values)\n",
    "    if not i % 200:\n",
    "        \n",
    "        print(\"\")\n",
    "        print(f\"Episode {i}\")\n",
    "        print(f\"Values = {values.numpy()}\")\n",
    "        print(f\"loss = {loss.numpy()}\")\n",
    "\n",
    "    \n",
    "        "
   ]
  },
  {
   "cell_type": "code",
   "execution_count": 6,
   "metadata": {},
   "outputs": [
    {
     "data": {
      "text/plain": [
       "[<matplotlib.lines.Line2D at 0x227e5791908>]"
      ]
     },
     "execution_count": 6,
     "metadata": {},
     "output_type": "execute_result"
    },
    {
     "data": {
      "image/png": "[encoded data removed]",
      "text/plain": [
       "<Figure size 432x288 with 1 Axes>"
      ]
     },
     "metadata": {
      "needs_background": "light"
     },
     "output_type": "display_data"
    }
   ],
   "source": [
    "steps = list(range(1000))\n",
    "\n",
    "plt.plot(steps, losses)"
   ]
  },
  {
   "cell_type": "markdown",
   "metadata": {},
   "source": [
    "## Final model predictions"
   ]
  },
  {
   "cell_type": "code",
   "execution_count": 7,
   "metadata": {},
   "outputs": [
    {
     "data": {
      "text/plain": [
       "<tf.Tensor: shape=(3, 1), dtype=float32, numpy=\n",
       "array([[0.5005814 ],\n",
       "       [1.0008628 ],\n",
       "       [0.99679923]], dtype=float32)>"
      ]
     },
     "execution_count": 7,
     "metadata": {},
     "output_type": "execute_result"
    }
   ],
   "source": [
    "final_values = model(state)\n",
    "final_values"
   ]
  }
 ],
 "metadata": {
  "kernelspec": {
   "display_name": "Python 3",
   "language": "python",
   "name": "python3"
  },
  "language_info": {
   "codemirror_mode": {
    "name": "ipython",
    "version": 3
   },
   "file_extension": ".py",
   "mimetype": "text/x-python",
   "name": "python",
   "nbconvert_exporter": "python",
   "pygments_lexer": "ipython3",
   "version": "3.7.4"
  }
 },
 "nbformat": 4,
 "nbformat_minor": 4
}
